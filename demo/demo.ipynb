{
 "cells": [
  {
   "cell_type": "code",
   "execution_count": null,
   "metadata": {},
   "outputs": [],
   "source": [
    "import pandas as pd\n",
    "import requests\n",
    "import numpy as np\n",
    "from sklearn.linear_model import LinearRegression\n",
    "from sklearn.metrics import r2_score\n",
    "import matplotlib.pyplot as plt"
   ]
  },
  {
   "cell_type": "code",
   "execution_count": 2,
   "metadata": {},
   "outputs": [],
   "source": [
    "#Suppressing Warnings for better looking output if desired\n",
    "import warnings\n",
    "warnings.filterwarnings('ignore')"
   ]
  },
  {
   "cell_type": "markdown",
   "metadata": {},
   "source": [
    "Data Grabbing Function"
   ]
  },
  {
   "cell_type": "code",
   "execution_count": 3,
   "metadata": {},
   "outputs": [],
   "source": [
    "#Returns player info for past 50 games before the input date, from StatsMuse\n",
    "def get_player_data(name, date):\n",
    "    # can replace name to any player name, can change date to match any games before that date\n",
    "    url = 'https://www.statmuse.com/nba/ask?q=' + name.lower().replace(' ', '+') + '+off+rating%2C+usage%2C+true+game+log+before+' + date.replace('/', '%2F')\n",
    "\n",
    "    # get page content\n",
    "    response = requests.get(url)\n",
    "\n",
    "    # Check if the request was successful\n",
    "    if response.status_code == 200:\n",
    "        # Parse the HTML content using Pandas read_html function\n",
    "        tables = pd.read_html(response.text)\n",
    "\n",
    "        # assumes we want only the first 25 rows of table since statmuse only shows 25 rows for free\n",
    "        df = tables[0].head(25)\n",
    "        df = df.filter(items=[\"NAME\", \"DATE\", \"OPP\", \"ORTG\", \"PTS\", \"USG%\", \"TS%\", \"FGA\", \"FGM\", \"MIN\"])\n",
    "\n",
    "        # original columns (could save any of these other cols)\n",
    "        \"\"\" ['Unnamed: 0', 'NAME', 'DATE', 'ORTG', 'USG%', 'TS%', 'TM', 'Unnamed: 7',\n",
    "           'OPP', 'MIN', 'PTS', 'REB', 'AST', 'STL', 'BLK', 'TOV', 'FGM', 'FGA',\n",
    "           'FG%', '3PM', '3PA', '3P%', 'FTM', 'FTA', 'FT%', 'PF', '+/-']  \"\"\"\n",
    "\n",
    "\n",
    "        earliest_date = df.iloc[-1]['DATE']\n",
    "\n",
    "\n",
    "    url2 = 'https://www.statmuse.com/nba/ask?q=' + name.lower().replace(' ', '+') + '+off+rating%2C+usage%2C+true+game+log+before+' + earliest_date.replace('/', '%2F')\n",
    "\n",
    "    # get page content\n",
    "    response = requests.get(url2)\n",
    "    tables = pd.read_html(response.text)\n",
    "    df2 = tables[0].head(25)\n",
    "    df2 = df2.filter(items=[\"NAME\", \"DATE\", \"OPP\", \"ORTG\", \"PTS\", \"USG%\", \"TS%\", \"FGA\", \"FGM\", \"MIN\"])\n",
    "\n",
    "    # merge dataframes\n",
    "    final_df = pd.concat([df, df2], ignore_index=True)\n",
    "\n",
    "    # filling NaNs\n",
    "    final_df = final_df.fillna({\"NAME\": \"ERROR\", \"DATE\": \"ERROR\", \"OPP\": \"ERROR\", \"ORTG\": final_df.loc[:,'ORTG'].mean(), \\\n",
    "                            \"PTS\": final_df.loc[:,'PTS'].mean(), \"USG%\": final_df.loc[:,'USG%'].mean(), \\\n",
    "                            \"TS%\": final_df.loc[:,'TS%'].mean(), \"FGA\": final_df.loc[:,'FGA'].mean(),\\\n",
    "                            \"FGM\": final_df.loc[:,'FGM'].mean(), \"MIN\": final_df.loc[:,'MIN'].mean()})\n",
    "\n",
    "    return final_df"
   ]
  },
  {
   "cell_type": "code",
   "execution_count": 4,
   "metadata": {},
   "outputs": [
    {
     "name": "stdout",
     "output_type": "stream",
     "text": [
      "             NAME        DATE  OPP        ORTG   PTS  USG%      TS%   FGA  \\\n",
      "0   Aaron Holiday   4/11/2024  UTA  151.500000   6.0  18.3   60.000   5.0   \n",
      "1   Aaron Holiday    4/7/2024  DAL   80.500000   3.0   9.5   75.000   2.0   \n",
      "2   Aaron Holiday    4/5/2024  MIA   30.200000   0.0   9.4    0.000   2.0   \n",
      "3   Aaron Holiday    4/4/2024  GSW  154.900000   6.0   9.8   75.000   4.0   \n",
      "4   Aaron Holiday    4/2/2024  MIN   95.200000   0.0   7.4    0.000   1.0   \n",
      "5   Aaron Holiday   3/31/2024  DAL  131.100000  16.0  24.7   67.300  11.0   \n",
      "6   Aaron Holiday   3/29/2024  UTA   19.200000   0.0  12.3    0.000   2.0   \n",
      "7   Aaron Holiday   3/27/2024  OKC  122.700000   4.0  19.0   40.000   5.0   \n",
      "8   Aaron Holiday   3/25/2024  POR  157.900000  11.0  15.6   63.700   6.0   \n",
      "9   Aaron Holiday   3/23/2024  UTA  132.100000   7.0  14.9   50.000   7.0   \n",
      "10  Aaron Holiday   3/21/2024  CHI  182.000000  15.0  17.8  109.000   6.0   \n",
      "11  Aaron Holiday   3/19/2024  WAS  133.000000   7.0  15.8   44.400   7.0   \n",
      "12  Aaron Holiday   3/16/2024  CLE   91.100000   2.0  14.8   25.000   4.0   \n",
      "13  Aaron Holiday   3/14/2024  WAS    0.000000   0.0  15.4    0.000   3.0   \n",
      "14  Aaron Holiday   3/12/2024  SAS  118.800000   8.0  29.4   58.100   6.0   \n",
      "15  Aaron Holiday   3/10/2024  SAC   30.700000   0.0  13.9    0.000   2.0   \n",
      "16  Aaron Holiday    3/8/2024  POR   99.200000   6.0  20.2   42.900   7.0   \n",
      "17  Aaron Holiday    3/6/2024  LAC  200.100000   6.0  17.0  100.000   3.0   \n",
      "18  Aaron Holiday    3/5/2024  SAS   32.100000   0.0  15.6    0.000   2.0   \n",
      "19  Aaron Holiday    3/2/2024  PHX   29.400000   0.0  12.4    0.000   1.0   \n",
      "20  Aaron Holiday   2/29/2024  PHX   84.400000   0.0   4.2    0.000   1.0   \n",
      "21  Aaron Holiday   2/27/2024  OKC  101.900000  10.0  25.6   50.000  10.0   \n",
      "22  Aaron Holiday   2/25/2024  OKC  117.800000   7.0  22.2   70.000   5.0   \n",
      "23  Aaron Holiday   2/23/2024  PHX  126.200000   3.0  11.8   64.700   1.0   \n",
      "24  Aaron Holiday   2/22/2024  NOP   14.000000   0.0  26.7    0.000   3.0   \n",
      "25  Aaron Holiday   2/14/2024  MEM  133.300000  19.0  19.2   73.100  13.0   \n",
      "26  Aaron Holiday   2/12/2024  NYK  129.100000  18.0  27.5   57.100  14.0   \n",
      "27  Aaron Holiday   2/10/2024  ATL  181.000000  18.0  17.8   86.200  10.0   \n",
      "28  Aaron Holiday    2/9/2024  TOR  111.900000  12.0  19.3   46.200  13.0   \n",
      "29  Aaron Holiday    2/6/2024  IND  191.400000   8.0   7.8  133.300   3.0   \n",
      "30  Aaron Holiday    2/4/2024  MIN  108.300000   5.0  14.6   57.900   3.0   \n",
      "31  Aaron Holiday    2/2/2024  TOR   88.100000   3.0  13.8   75.000   2.0   \n",
      "32  Aaron Holiday   1/31/2024  NOP   34.400000   0.0  11.0    0.000   4.0   \n",
      "33  Aaron Holiday   1/27/2024  BKN   83.000000   6.0  17.6   50.000   6.0   \n",
      "34  Aaron Holiday   1/26/2024  CHA  138.600000  10.0  18.0   83.300   6.0   \n",
      "35  Aaron Holiday   1/24/2024  POR  191.600000  12.0  10.7   90.400   4.0   \n",
      "36  Aaron Holiday   1/21/2024  BOS  124.100000  12.0  14.8   75.000   8.0   \n",
      "37  Aaron Holiday   1/20/2024  UTA  219.000000   6.0  12.6  104.200   2.0   \n",
      "38  Aaron Holiday   1/17/2024  NYK  222.900000   0.0   0.0   48.775   0.0   \n",
      "39  Aaron Holiday   1/15/2024  PHI   60.600000   0.0   7.6    0.000   1.0   \n",
      "40  Aaron Holiday   1/13/2024  BOS   86.500000   5.0  30.2   36.300   6.0   \n",
      "41  Aaron Holiday   1/12/2024  DET  109.322449   0.0   0.0   48.775   0.0   \n",
      "42  Aaron Holiday   1/10/2024  CHI   78.000000   4.0  22.4   51.500   3.0   \n",
      "43  Aaron Holiday    1/8/2024  MIA  126.000000   8.0  13.9   54.600   6.0   \n",
      "44  Aaron Holiday    1/6/2024  MIL  101.900000  11.0  19.3   78.600   7.0   \n",
      "45  Aaron Holiday    1/5/2024  MIN  172.000000   5.0   6.8   83.300   3.0   \n",
      "46  Aaron Holiday    1/3/2024  BKN   78.500000   3.0  19.8   30.000   5.0   \n",
      "47  Aaron Holiday    1/1/2024  DET   95.400000   0.0  12.2    0.000   3.0   \n",
      "48  Aaron Holiday  12/29/2023  PHI   75.300000   4.0  25.0   33.300   6.0   \n",
      "49  Aaron Holiday  12/27/2023  PHX   89.900000  13.0  27.5   46.800  13.0   \n",
      "\n",
      "    FGM   MIN  \n",
      "0   2.0  11.0  \n",
      "1   1.0  14.0  \n",
      "2   0.0   9.0  \n",
      "3   2.0  18.0  \n",
      "4   0.0   6.0  \n",
      "5   6.0  23.0  \n",
      "6   0.0  10.0  \n",
      "7   2.0  11.0  \n",
      "8   2.0  24.0  \n",
      "9   3.0  20.0  \n",
      "10  5.0  18.0  \n",
      "11  2.0  21.0  \n",
      "12  1.0  12.0  \n",
      "13  0.0  11.0  \n",
      "14  3.0  11.0  \n",
      "15  0.0   6.0  \n",
      "16  3.0  15.0  \n",
      "17  2.0   8.0  \n",
      "18  0.0   5.0  \n",
      "19  0.0   6.0  \n",
      "20  0.0   9.0  \n",
      "21  4.0  16.0  \n",
      "22  3.0  11.0  \n",
      "23  0.0  11.0  \n",
      "24  0.0   8.0  \n",
      "25  7.0  30.0  \n",
      "26  7.0  26.0  \n",
      "27  7.0  22.0  \n",
      "28  5.0  31.0  \n",
      "29  3.0  20.0  \n",
      "30  1.0  16.0  \n",
      "31  1.0  12.0  \n",
      "32  0.0  17.0  \n",
      "33  3.0  18.0  \n",
      "34  4.0  19.0  \n",
      "35  2.0  30.0  \n",
      "36  5.0  27.0  \n",
      "37  2.0   9.0  \n",
      "38  0.0   4.0  \n",
      "39  0.0   6.0  \n",
      "40  2.0   9.0  \n",
      "41  0.0   3.0  \n",
      "42  1.0  11.0  \n",
      "43  2.0  23.0  \n",
      "44  4.0  21.0  \n",
      "45  2.0  19.0  \n",
      "46  1.0  14.0  \n",
      "47  0.0  11.0  \n",
      "48  2.0  15.0  \n",
      "49  4.0  24.0  \n"
     ]
    }
   ],
   "source": [
    "name = 'Aaron Holiday'\n",
    "date = '04/12/24'\n",
    "print(get_player_data(name, date))\n",
    "#print(get_player_data(name, date).loc[:, 'PTS'].to_numpy())"
   ]
  },
  {
   "cell_type": "markdown",
   "metadata": {},
   "source": [
    "Defensive Matchup Grabbing"
   ]
  },
  {
   "cell_type": "code",
   "execution_count": 5,
   "metadata": {},
   "outputs": [],
   "source": [
    "#Returns defensive points allowed data given a position\n",
    "def get_def_mc(pos):\n",
    "    loc = \"matchups/\" + pos.lower() + \".csv\"\n",
    "    team_data = pd.read_csv(loc)\n",
    "    output = {}\n",
    "    for index, row in team_data.iterrows():\n",
    "        output[row[0]] = row[1]\n",
    "    return output"
   ]
  },
  {
   "cell_type": "code",
   "execution_count": 6,
   "metadata": {},
   "outputs": [
    {
     "data": {
      "text/plain": [
       "{'UTA': 25.7,\n",
       " 'WAS': 25.42,\n",
       " 'TOR': 24.78,\n",
       " 'IND': 26.07,\n",
       " 'ATL': 24.71,\n",
       " 'GSW': 24.24,\n",
       " 'DET': 24.64,\n",
       " 'CHA': 24.55,\n",
       " 'DAL': 24.75,\n",
       " 'HOU': 23.02,\n",
       " 'LAL': 24.78,\n",
       " 'SAC': 25.05,\n",
       " 'MEM': 23.14,\n",
       " 'PHX': 24.49,\n",
       " 'OKC': 22.98,\n",
       " 'DEN': 23.31,\n",
       " 'CHI': 23.12,\n",
       " 'SAS': 22.52,\n",
       " 'POR': 22.8,\n",
       " 'NOP': 22.94,\n",
       " 'CLE': 23.72,\n",
       " 'PHI': 22.42,\n",
       " 'MIL': 23.41,\n",
       " 'LAC': 21.95,\n",
       " 'BKN': 22.44,\n",
       " 'NYK': 22.87,\n",
       " 'MIA': 21.47,\n",
       " 'MIN': 21.13,\n",
       " 'ORL': 20.44,\n",
       " 'BOS': 20.31}"
      ]
     },
     "execution_count": 6,
     "metadata": {},
     "output_type": "execute_result"
    }
   ],
   "source": [
    "get_def_mc(\"pf\")"
   ]
  },
  {
   "cell_type": "markdown",
   "metadata": {},
   "source": [
    "Model"
   ]
  },
  {
   "cell_type": "code",
   "execution_count": 7,
   "metadata": {},
   "outputs": [],
   "source": [
    "def model(name, position, date, opponent, projection, demo_mode=False):\n",
    "    # Data for average points allowed by each team against players of the same position\n",
    "    team_points_allowed = get_def_mc(position)\n",
    "\n",
    "    # Get the average points allowed by MEM against players of the same position\n",
    "\n",
    "    player_data = get_player_data(name, date)\n",
    "\n",
    "    point = player_data.loc[:, 'PTS'].to_numpy()\n",
    "    true = player_data.loc[:, 'TS%'].to_numpy()\n",
    "    usage = player_data.loc[:, 'USG%'].to_numpy()\n",
    "    fga = player_data.loc[:, 'FGA'].to_numpy()\n",
    "    fgm = player_data.loc[:, 'FGM'].to_numpy()\n",
    "    off_rat = player_data.loc[:, 'ORTG'].to_numpy()\n",
    "    min = player_data.loc[:, 'MIN'].to_numpy()\n",
    "    opponent_teams = player_data.loc[:, 'OPP'].to_numpy()\n",
    "    \n",
    "    mean_point = np.mean(point)\n",
    "    std_dev_point = np.std(point)\n",
    "    mean_usage = np.mean(usage)\n",
    "    std_dev_usage = np.std(usage)\n",
    "    mean_true = np.mean(true)\n",
    "    std_dev_true = np.std(true)\n",
    "    mean_fga = np.mean(fga)\n",
    "    std_dev_fga = np.std(fga)\n",
    "    mean_fgm = np.mean(fgm)\n",
    "    std_dev_fgm = np.std(fgm)\n",
    "    mean_off_rat = np.mean(off_rat)\n",
    "    std_off_rat = np.std(off_rat)\n",
    "    mean_min = np.mean(min)\n",
    "    std_min = np.std(min)\n",
    "\n",
    "    # Number of simulations\n",
    "\n",
    "    num_simulations = 10000\n",
    "    actual_range = int(num_simulations/ len(point))\n",
    "    # Arrays to store simulated results\n",
    "    simulated_points = np.zeros((actual_range, len(point)))\n",
    "\n",
    "    # Calculate R-squared values for each variable\n",
    "    r2_values = []\n",
    "    for variable in [point, usage, true, fga, fgm, off_rat, min]:\n",
    "        X = np.array(variable).reshape(-1, 1)\n",
    "        linear_model = LinearRegression()\n",
    "        linear_model.fit(X, point)\n",
    "        y_pred = linear_model.predict(X)\n",
    "        r2_values.append(r2_score(point, y_pred))\n",
    "\n",
    "    # Normalize R-squared values to create custom weights\n",
    "    weights = np.array(r2_values) / np.sum(r2_values)\n",
    "\n",
    "    # Simulate linear regression and prediction for points\n",
    "    for i in range(actual_range):\n",
    "        # Add some random noise to the true, usage, and point values to simulate variability\n",
    "        simulated_true = np.array(true) + np.random.normal(mean_true, std_dev_true, len(true))\n",
    "        simulated_usage = np.array(usage) + np.random.normal(mean_usage, std_dev_usage, len(usage))\n",
    "        simulated_point = np.array(point) + np.random.normal(mean_point, std_dev_point, len(point))\n",
    "        simulated_fga = np.array(fga) + np.random.normal(mean_fga, std_dev_fga, len(fga))\n",
    "        simulated_fgm = np.array(fgm) + np.random.normal(mean_fgm, std_dev_fgm, len(fgm))\n",
    "        simulated_off_rat = np.array(off_rat) + np.random.normal(mean_off_rat, std_off_rat, len(off_rat))\n",
    "        simulated_min = np.array(min) + np.random.normal(mean_min, std_min,len(min))\n",
    "        # Perform linear regression for points with custom weights\n",
    "        X = np.array([simulated_true, simulated_usage, simulated_point, simulated_fga, simulated_fgm, simulated_off_rat, simulated_min]).T\n",
    "        linear_model = LinearRegression()\n",
    "    \n",
    "        # Apply custom weights to each variable\n",
    "        X_weighted = X * weights\n",
    "    \n",
    "        # Fit the model and predict points\n",
    "        linear_model.fit(X_weighted, point)\n",
    "        simulated_points[i, :] = linear_model.predict(X_weighted)\n",
    "\n",
    "    # Now simulated_points has the shape (num_simulations, len(point))\n",
    "    total_points_allowed = sum(team_points_allowed.values())\n",
    "    mean_points_allowed = total_points_allowed / len(team_points_allowed)\n",
    "    adjusted_matchup = team_points_allowed[opponent]/ mean_points_allowed\n",
    "    simulated_points *= adjusted_matchup\n",
    "\n",
    "    # Print the result\n",
    "\n",
    "\n",
    "    median_predicted_points = np.median(simulated_points)\n",
    "    if demo_mode == False:\n",
    "        print(f\"Median value of predicted points: {median_predicted_points:.2f}\")\n",
    "\n",
    "    mean_predicted_points = np.mean(simulated_points)\n",
    "    if demo_mode == False:\n",
    "        print(f\"Mean value of predicted points: {mean_predicted_points:.2f}\")\n",
    "\n",
    "    max_predicted_points = np.max(simulated_points)\n",
    "    if demo_mode == False:\n",
    "        print(f\"Ceiling value of predicted points: {max_predicted_points:.2f}\")\n",
    "\n",
    "    min_predicted_points = np.min(simulated_points)\n",
    "    if demo_mode == False:\n",
    "        print(f\"Floor value of predicted points: {min_predicted_points:.2f}\")\n",
    "\n",
    "\n",
    "\n",
    "    #Plot the distribution of weights\n",
    "    if demo_mode == False:\n",
    "        plt.hist(simulated_points.flatten(), bins=30, color='blue', alpha=0.7)\n",
    "        plt.title(name + ' Distribution of Predicted Points')\n",
    "        plt.xlabel('Predicted Points')\n",
    "        plt.ylabel('Frequency')\n",
    "    \n",
    "    #Finding over/under chances\n",
    "    num_over = 0\n",
    "    num_under = 0\n",
    "    num_push = 0\n",
    "    for set in simulated_points:\n",
    "        for num in set:\n",
    "            if num > projection:\n",
    "                num_over = num_over + 1\n",
    "            elif num < projection:\n",
    "                num_under = num_under + 1\n",
    "            else:\n",
    "                num_push = num_push + 1\n",
    "\n",
    "    over_chance = 100 * num_over/(num_over + num_under + num_push)\n",
    "    under_chance = 100 * num_under/(num_over + num_under + num_push)\n",
    "\n",
    "    if demo_mode == False:\n",
    "        print(f\"Over Odds: {over_chance}\")\n",
    "        print(f\"Under Odds: {under_chance}\")\n",
    "\n",
    "    #Giving return to demo\n",
    "    if demo_mode == True:\n",
    "        return (mean_predicted_points, over_chance, under_chance)"
   ]
  },
  {
   "cell_type": "code",
   "execution_count": 10,
   "metadata": {},
   "outputs": [
    {
     "name": "stdout",
     "output_type": "stream",
     "text": [
      "Median value of predicted points: 26.03\n",
      "Mean value of predicted points: 25.60\n",
      "Ceiling value of predicted points: 62.07\n",
      "Floor value of predicted points: -3.63\n",
      "Over Odds: 57.11\n",
      "Under Odds: 42.89\n"
     ]
    },
    {
     "data": {
      "image/png": "[encoded data removed]",
      "text/plain": [
       "<Figure size 640x480 with 1 Axes>"
      ]
     },
     "metadata": {},
     "output_type": "display_data"
    }
   ],
   "source": [
    "#Example run of model for an individual player\n",
    "model(\"Stephen Curry\", \"PG\", \"4/12/24\", \"NOP\", 24.5)"
   ]
  },
  {
   "cell_type": "markdown",
   "metadata": {},
   "source": [
    "Demo"
   ]
  },
  {
   "cell_type": "code",
   "execution_count": 11,
   "metadata": {},
   "outputs": [
    {
     "name": "stdout",
     "output_type": "stream",
     "text": [
      "100\n",
      "65\n"
     ]
    }
   ],
   "source": [
    "#Running model for 100 players, projecting for their points scored for the 4/12/2024 games\n",
    "#Extracting info from input file\n",
    "demo_input = pd.read_csv(\"demo_input.csv\")\n",
    "\n",
    "BCE_losses = []\n",
    "correct_over_under = 0\n",
    "ses = []\n",
    "\n",
    "valid_over_under = 0 #Count for non-push over/under outcomes\n",
    "\n",
    "#projection = 30 #Threshold for over/under bets\n",
    "\n",
    "for index, row in demo_input.iterrows():\n",
    "    name = row[0]\n",
    "    date = row[1]\n",
    "    opponent = row[3]\n",
    "    actual_score = row[4]\n",
    "    position = row[5]\n",
    "    prop = row[6] #Threshold for over/under bets\n",
    "\n",
    "    #Running model to get point prediction w/ over under chances\n",
    "    (prediction, over, under) = model(name, position, date, opponent, prop, demo_mode=True)\n",
    "\n",
    "    #Calculating point prediction error using model prediction and actual points scored value\n",
    "    ses = ses + [(actual_score - prediction)*(actual_score - prediction)]\n",
    "\n",
    "    #Logging if over/under prediction from model was correct and calculating BCE Loss\n",
    "    #Skipping this metric for players that yielded a push rather than an over or under\n",
    "    if actual_score != prop:\n",
    "        valid_over_under = valid_over_under + 1\n",
    "\n",
    "        if prediction > prop:\n",
    "            #over\n",
    "            over_under_result = 1\n",
    "        elif prediction < prop:\n",
    "            #under\n",
    "            over_under_result = 0\n",
    "\n",
    "        if (((over_under_result == 1) & (prediction > actual_score)) or ((over_under_result == 0) & (prediction < actual_score))):\n",
    "            correct_over_under = correct_over_under + 1\n",
    "        BCE_losses = BCE_losses + [(over_under_result*(np.log(over/100)) + (1 - over_under_result)*(np.log(1 - over/100)))]\n",
    "\n",
    "#Reporting MSE, BCE Loss, Over/Under Accuracy\n",
    "mse = np.sum(ses)/demo_input.shape[0]\n",
    "BCE_loss = np.sum(BCE_losses)/-demo_input.shape[0]\n",
    "over_under_accuracy = correct_over_under/valid_over_under\n"
   ]
  },
  {
   "cell_type": "code",
   "execution_count": 109,
   "metadata": {},
   "outputs": [
    {
     "name": "stdout",
     "output_type": "stream",
     "text": [
      "60\n",
      "48\n"
     ]
    }
   ],
   "source": [
    "#this code only counts for players who have more than a 10% edge against the implied probability\n",
    "\n",
    "demo_input = pd.read_csv(\"demo_input.csv\")\n",
    "\n",
    "BCE_losses = []\n",
    "correct_over_under = 0\n",
    "ses = []\n",
    "\n",
    "valid_over_under = 0 \n",
    "for index, row in demo_input.iterrows():\n",
    "    name = row[0]\n",
    "    date = row[1]\n",
    "    opponent = row[3]\n",
    "    actual_score = row[4]\n",
    "    position = row[5]\n",
    "    prop = row[6] #Threshold for over/under bets\n",
    "\n",
    "    # Running model to get point prediction w/ over under chances\n",
    "    (prediction, over, under) = model(name, position, date, opponent, prop, demo_mode=True)\n",
    "\n",
    "    # Calculating point prediction error using model prediction and actual points scored value\n",
    "    ses = ses + [(actual_score - prediction)*(actual_score - prediction)]\n",
    "\n",
    "    percent_dif = prediction / prop\n",
    "\n",
    "    # Logging if over/under prediction from model was correct and calculating BCE Loss\n",
    "    # Skipping this metric for players that yielded a push rather than an over or under\n",
    "    if ((actual_score != prop) and ((over >= 62.38) or (under >= 62.38))):\n",
    "        valid_over_under = valid_over_under + 1\n",
    "\n",
    "        if actual_score != prop:\n",
    "            if prediction > prop:\n",
    "                # over\n",
    "                over_under_result = 1\n",
    "            elif prediction < prop:\n",
    "                # under\n",
    "                over_under_result = 0\n",
    "\n",
    "            if (((over_under_result == 1) & (prediction > actual_score)) or ((over_under_result == 0) & (prediction < actual_score))):\n",
    "                correct_over_under = correct_over_under + 1\n",
    "            BCE_losses = BCE_losses + [(over_under_result*(np.log(over/100)) + (1 - over_under_result)*(np.log(1 - over/100)))]\n",
    "    \n",
    "\n",
    "# Reporting MSE, BCE Loss, Over/Under Accuracy\n",
    "mse = np.sum(ses) / demo_input.shape[0]\n",
    "BCE_loss = np.sum(BCE_losses) / -demo_input.shape[0]\n",
    "over_under_accuracy = correct_over_under / valid_over_under"
   ]
  },
  {
   "cell_type": "code",
   "execution_count": 104,
   "metadata": {},
   "outputs": [],
   "source": [
    "#Saving results from demo in CSVs\n",
    "demo_ses = pd.DataFrame(ses, columns=['ses'])\n",
    "demo_ses.to_csv(\"outputs\\demo_ses.csv\")\n",
    "\n",
    "demo_bce = pd.DataFrame(BCE_losses, columns=['bces'])\n",
    "demo_bce.to_csv(\"outputs\\demo_bce.csv\")\n",
    "\n",
    "demo_stats = pd.DataFrame([[mse, BCE_loss, over_under_accuracy]], columns=['mse', 'bce_loss', 'over_under_acc'])\n",
    "demo_stats.to_csv(\"outputs\\demo_stats.csv\")"
   ]
  },
  {
   "cell_type": "code",
   "execution_count": 105,
   "metadata": {},
   "outputs": [
    {
     "name": "stdout",
     "output_type": "stream",
     "text": [
      "Mean Squared Error of Score Prediction: 70.84669250672987\n",
      "Binary Cross Entropy Loss for Over/Under Probabilities: 0.2351513385990547\n",
      "Over/Under Accuracy:77.63157894736842%\n"
     ]
    }
   ],
   "source": [
    "#Printing stats resulting from demo\n",
    "mse_output = pd.read_csv(\"outputs\\demo_stats.csv\").loc[0, 'mse']\n",
    "print(f\"Mean Squared Error of Score Prediction: {mse_output}\")\n",
    "\n",
    "BCE_loss_output = pd.read_csv(\"outputs\\demo_stats.csv\").loc[0, 'bce_loss']\n",
    "print(f\"Binary Cross Entropy Loss for Over/Under Probabilities: {BCE_loss_output}\")\n",
    "\n",
    "over_under_accuracy_output = pd.read_csv(\"outputs\\demo_stats.csv\").loc[0, 'over_under_acc']\n",
    "print(f\"Over/Under Accuracy:{over_under_accuracy_output*100}%\")"
   ]
  },
  {
   "cell_type": "code",
   "execution_count": 3,
   "metadata": {},
   "outputs": [
    {
     "data": {
      "text/plain": [
       "Text(0, 0.5, 'Frequency')"
      ]
     },
     "execution_count": 3,
     "metadata": {},
     "output_type": "execute_result"
    },
    {
     "data": {
      "image/png": "[encoded data removed]",
      "text/plain": [
       "<Figure size 640x480 with 1 Axes>"
      ]
     },
     "metadata": {},
     "output_type": "display_data"
    }
   ],
   "source": [
    "#Graphing BCE losses for individual players\n",
    "BCE_losses_graphing = pd.read_csv(\"outputs\\demo_bce.csv\")\n",
    "plt.hist(- BCE_losses_graphing.loc[:,'bces'], bins=10, color='blue')\n",
    "plt.title('Binary Cross Entropy Losses (Individual Players)')\n",
    "plt.xlabel('Binary Cross Entropy Loss')\n",
    "plt.ylabel('Frequency')"
   ]
  },
  {
   "cell_type": "code",
   "execution_count": 79,
   "metadata": {},
   "outputs": [
    {
     "data": {
      "text/plain": [
       "Text(0, 0.5, 'Frequency')"
      ]
     },
     "execution_count": 79,
     "metadata": {},
     "output_type": "execute_result"
    },
    {
     "data": {
      "image/png": "[encoded data removed]",
      "text/plain": [
       "<Figure size 640x480 with 1 Axes>"
      ]
     },
     "metadata": {},
     "output_type": "display_data"
    }
   ],
   "source": [
    "#Graphing SEs for individual players\n",
    "ses_graphing = pd.read_csv(\"outputs\\demo_ses.csv\")\n",
    "plt.hist(ses_graphing.loc[:,'ses'], bins=10, color='blue')\n",
    "plt.title('Squared Errors (Individual Players)')\n",
    "plt.xlabel('Squared Error')\n",
    "plt.ylabel('Frequency')"
   ]
  }
 ],
 "metadata": {
  "kernelspec": {
   "display_name": "Python 3",
   "language": "python",
   "name": "python3"
  },
  "language_info": {
   "codemirror_mode": {
    "name": "ipython",
    "version": 3
   },
   "file_extension": ".py",
   "mimetype": "text/x-python",
   "name": "python",
   "nbconvert_exporter": "python",
   "pygments_lexer": "ipython3",
   "version": "3.11.9"
  }
 },
 "nbformat": 4,
 "nbformat_minor": 2
}
